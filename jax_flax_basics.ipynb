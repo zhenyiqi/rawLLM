{
  "nbformat": 4,
  "nbformat_minor": 0,
  "metadata": {
    "colab": {
      "provenance": [],
      "toc_visible": true,
      "authorship_tag": "ABX9TyORr+MmjBa47JtXdmNI0g7g",
      "include_colab_link": true
    },
    "kernelspec": {
      "name": "python3",
      "display_name": "Python 3"
    },
    "language_info": {
      "name": "python"
    }
  },
  "cells": [
    {
      "cell_type": "markdown",
      "metadata": {
        "id": "view-in-github",
        "colab_type": "text"
      },
      "source": [
        "<a href=\"https://colab.research.google.com/github/zhenyiqi/rawLLM/blob/main/jax_flax_basics.ipynb\" target=\"_parent\"><img src=\"https://colab.research.google.com/assets/colab-badge.svg\" alt=\"Open In Colab\"/></a>"
      ]
    },
    {
      "cell_type": "markdown",
      "source": [
        "# Imports"
      ],
      "metadata": {
        "id": "XUFUE3Ej8O-o"
      }
    },
    {
      "cell_type": "code",
      "execution_count": 15,
      "metadata": {
        "id": "kHNhztKJWnTQ"
      },
      "outputs": [],
      "source": [
        "import jax.numpy as jnp\n",
        "import jax.random as random"
      ]
    },
    {
      "cell_type": "markdown",
      "source": [
        "# Matrix operations"
      ],
      "metadata": {
        "id": "TnzY8tZSWvp7"
      }
    },
    {
      "cell_type": "markdown",
      "source": [
        "## Element-wise operations (broad-castable)"
      ],
      "metadata": {
        "id": "geSChO9iXKSx"
      }
    },
    {
      "cell_type": "code",
      "source": [
        "x = jnp.array([[0, -1, 1], [-2, 0, 1]])"
      ],
      "metadata": {
        "id": "zSA9tAjsWc9n"
      },
      "execution_count": null,
      "outputs": []
    },
    {
      "cell_type": "code",
      "source": [
        "jnp.maximum(0, x)"
      ],
      "metadata": {
        "colab": {
          "base_uri": "https://localhost:8080/"
        },
        "id": "JGbIbahQWjD9",
        "outputId": "43adcb99-4ee9-49e8-a3af-29af2668bf1f"
      },
      "execution_count": null,
      "outputs": [
        {
          "output_type": "execute_result",
          "data": {
            "text/plain": [
              "Array([[0, 0, 1],\n",
              "       [0, 0, 1]], dtype=int32)"
            ]
          },
          "metadata": {},
          "execution_count": 19
        }
      ]
    },
    {
      "cell_type": "markdown",
      "source": [
        "## Matrix-specific operations"
      ],
      "metadata": {
        "id": "UWQ_9oe8XF97"
      }
    },
    {
      "cell_type": "markdown",
      "source": [
        "### rearrange a single matrix"
      ],
      "metadata": {
        "id": "voIK2WIm8Adb"
      }
    },
    {
      "cell_type": "markdown",
      "source": [
        "#### reshape"
      ],
      "metadata": {
        "id": "EEXGZetg8iB3"
      }
    },
    {
      "cell_type": "code",
      "source": [
        "x = jnp.array([[1, 2, 3], [4, 5, 6]])"
      ],
      "metadata": {
        "id": "cp5R2tC_8C9l"
      },
      "execution_count": 3,
      "outputs": []
    },
    {
      "cell_type": "code",
      "source": [
        "x.reshape(1, -1)"
      ],
      "metadata": {
        "colab": {
          "base_uri": "https://localhost:8080/"
        },
        "id": "V99Uqs_a8Nfk",
        "outputId": "1af6fd35-3903-4f13-c447-4ffc9f9aeb03"
      },
      "execution_count": 5,
      "outputs": [
        {
          "output_type": "execute_result",
          "data": {
            "text/plain": [
              "Array([[1, 2, 3, 4, 5, 6]], dtype=int32)"
            ]
          },
          "metadata": {},
          "execution_count": 5
        }
      ]
    },
    {
      "cell_type": "code",
      "source": [
        "x.reshape(3, -1)"
      ],
      "metadata": {
        "colab": {
          "base_uri": "https://localhost:8080/"
        },
        "id": "PWQrBpsc8Vy_",
        "outputId": "fa703253-515d-437a-b7b0-4380b4006e15"
      },
      "execution_count": 7,
      "outputs": [
        {
          "output_type": "execute_result",
          "data": {
            "text/plain": [
              "Array([[1, 2],\n",
              "       [3, 4],\n",
              "       [5, 6]], dtype=int32)"
            ]
          },
          "metadata": {},
          "execution_count": 7
        }
      ]
    },
    {
      "cell_type": "code",
      "source": [
        "x = jnp.array([[[1, 2], [3, 4], [5, 6]], [[7, 8], [9, 10], [11, 12]]])\n",
        "x.shape"
      ],
      "metadata": {
        "colab": {
          "base_uri": "https://localhost:8080/"
        },
        "id": "XIuDbFlZ8g_g",
        "outputId": "64fd6cb6-7aa9-4c07-ee38-0069916e6ef4"
      },
      "execution_count": 10,
      "outputs": [
        {
          "output_type": "execute_result",
          "data": {
            "text/plain": [
              "(2, 3, 2)"
            ]
          },
          "metadata": {},
          "execution_count": 10
        }
      ]
    },
    {
      "cell_type": "code",
      "source": [
        "x.reshape(2, 2, -1)"
      ],
      "metadata": {
        "colab": {
          "base_uri": "https://localhost:8080/"
        },
        "id": "YIQvvkjf8rIG",
        "outputId": "b7369a34-d239-403c-be76-4b574d43a446"
      },
      "execution_count": 12,
      "outputs": [
        {
          "output_type": "execute_result",
          "data": {
            "text/plain": [
              "Array([[[ 1,  2,  3],\n",
              "        [ 4,  5,  6]],\n",
              "\n",
              "       [[ 7,  8,  9],\n",
              "        [10, 11, 12]]], dtype=int32)"
            ]
          },
          "metadata": {},
          "execution_count": 12
        }
      ]
    },
    {
      "cell_type": "code",
      "source": [
        "original_matrix = jnp.array([[[1, 2], [3, 4], [5, 6]], [[7, 8], [9, 10], [11, 12]]])\n",
        "print(f'original matrix is of shape {original_matrix.shape}')\n",
        "\n",
        "new_matrix = original_matrix.swapaxes(0, 1)\n",
        "new_matrix = new_matrix.reshape(3, -1)\n",
        "\n",
        "print(new_matrix.shape)\n",
        "print(new_matrix)"
      ],
      "metadata": {
        "colab": {
          "base_uri": "https://localhost:8080/"
        },
        "id": "TqSU5GOWF1jU",
        "outputId": "c5559249-0a76-4a7f-ce4b-f76b1f06c8a9"
      },
      "execution_count": 24,
      "outputs": [
        {
          "output_type": "stream",
          "name": "stdout",
          "text": [
            "original matrix is of shape (2, 3, 2)\n",
            "(3, 4)\n",
            "[[ 1  2  7  8]\n",
            " [ 3  4  9 10]\n",
            " [ 5  6 11 12]]\n"
          ]
        }
      ]
    },
    {
      "cell_type": "markdown",
      "source": [
        "binary (or multi-nary) operators"
      ],
      "metadata": {
        "id": "LHeRO5OsbHtN"
      }
    },
    {
      "cell_type": "code",
      "source": [
        "a = jnp.array([1, 2, 3])\n",
        "b = jnp.array([4, 5, 6])"
      ],
      "metadata": {
        "id": "iSdlInnab790"
      },
      "execution_count": 2,
      "outputs": []
    },
    {
      "cell_type": "code",
      "source": [
        "jnp.stack((a, b))"
      ],
      "metadata": {
        "colab": {
          "base_uri": "https://localhost:8080/"
        },
        "id": "9NJ99E40cI9M",
        "outputId": "3b1f907d-8141-4788-d59a-9845ab8fd377"
      },
      "execution_count": 3,
      "outputs": [
        {
          "output_type": "execute_result",
          "data": {
            "text/plain": [
              "Array([[1, 2, 3],\n",
              "       [4, 5, 6]], dtype=int32)"
            ]
          },
          "metadata": {},
          "execution_count": 3
        }
      ]
    },
    {
      "cell_type": "markdown",
      "source": [
        "The `axis` parameter means the axis index of the **new axis**. The dimension of hte new axis is the same as the number of matrixes in the tuple (first parameter)."
      ],
      "metadata": {
        "id": "tjqma7iJdOYH"
      }
    },
    {
      "cell_type": "code",
      "source": [
        "a = jnp.array([1, 2, 3])\n",
        "b = jnp.array([4, 5, 6])\n",
        "jnp.stack((a, b), axis=0)"
      ],
      "metadata": {
        "colab": {
          "base_uri": "https://localhost:8080/"
        },
        "id": "VDSQsDzQcKMd",
        "outputId": "f5b1ee99-2d5e-4318-a1b0-02e9e35799c9"
      },
      "execution_count": 4,
      "outputs": [
        {
          "output_type": "execute_result",
          "data": {
            "text/plain": [
              "Array([[1, 2, 3],\n",
              "       [4, 5, 6]], dtype=int32)"
            ]
          },
          "metadata": {},
          "execution_count": 4
        }
      ]
    },
    {
      "cell_type": "code",
      "source": [
        "a = jnp.array([1, 2, 3])\n",
        "b = jnp.array([4, 5, 6])\n",
        "jnp.stack((a, b), axis=1)"
      ],
      "metadata": {
        "colab": {
          "base_uri": "https://localhost:8080/"
        },
        "id": "VFOxLM1DcQvI",
        "outputId": "b88ad6fe-ddea-44c2-f6c2-23057c0cf437"
      },
      "execution_count": 5,
      "outputs": [
        {
          "output_type": "execute_result",
          "data": {
            "text/plain": [
              "Array([[1, 4],\n",
              "       [2, 5],\n",
              "       [3, 6]], dtype=int32)"
            ]
          },
          "metadata": {},
          "execution_count": 5
        }
      ]
    },
    {
      "cell_type": "markdown",
      "source": [
        "# Linen"
      ],
      "metadata": {
        "id": "Yp1HnN5VcXvz"
      }
    },
    {
      "cell_type": "code",
      "source": [
        "import flax.linen as nn\n",
        "import jax.random as random\n",
        "import jax"
      ],
      "metadata": {
        "id": "6i2sS3tpm1_e"
      },
      "execution_count": 20,
      "outputs": []
    },
    {
      "cell_type": "code",
      "source": [
        "layer = nn.Dense(features=4)"
      ],
      "metadata": {
        "id": "86pTCr7gnHmx"
      },
      "execution_count": 7,
      "outputs": []
    },
    {
      "cell_type": "code",
      "source": [
        "params = layer.init(random.key(0), jnp.ones((200, 5)))"
      ],
      "metadata": {
        "id": "b2IgvJ9Cm6aB"
      },
      "execution_count": 28,
      "outputs": []
    },
    {
      "cell_type": "code",
      "source": [
        "params"
      ],
      "metadata": {
        "colab": {
          "base_uri": "https://localhost:8080/"
        },
        "id": "5_JdNo0InOHL",
        "outputId": "f5ee13a7-67a6-4bba-d7a2-fba8ddc0d3a2"
      },
      "execution_count": 29,
      "outputs": [
        {
          "output_type": "execute_result",
          "data": {
            "text/plain": [
              "{'params': {'kernel': Array([[ 0.16268499,  0.7846524 , -0.08340393,  0.62642825],\n",
              "         [-0.1928301 , -0.05645721,  0.59652334, -0.30912825],\n",
              "         [ 0.47221094, -0.7885982 , -0.04464982,  0.6568747 ],\n",
              "         [-0.07706029,  0.16432254, -0.2558527 ,  0.00360778],\n",
              "         [-0.16997725,  0.22439648,  0.70202154,  0.5716631 ]],      dtype=float32),\n",
              "  'bias': Array([0., 0., 0., 0.], dtype=float32)}}"
            ]
          },
          "metadata": {},
          "execution_count": 29
        }
      ]
    },
    {
      "cell_type": "code",
      "source": [
        "jax.tree_map(jnp.shape, params)"
      ],
      "metadata": {
        "colab": {
          "base_uri": "https://localhost:8080/"
        },
        "id": "34XEInTSoGWh",
        "outputId": "5c477dbe-3d37-4560-de6e-87791e0968fd"
      },
      "execution_count": 21,
      "outputs": [
        {
          "output_type": "execute_result",
          "data": {
            "text/plain": [
              "{'params': {'bias': (4,), 'kernel': (3, 4)}}"
            ]
          },
          "metadata": {},
          "execution_count": 21
        }
      ]
    },
    {
      "cell_type": "code",
      "source": [
        "layer = nn.Dense(features=4, kernel_init=nn.initializers.xavier_uniform(),  # Weights with Xavier uniform init\n",
        "                               bias_init=nn.initializers.zeros)"
      ],
      "metadata": {
        "id": "q0cbPtOxnQAT"
      },
      "execution_count": 11,
      "outputs": []
    },
    {
      "cell_type": "code",
      "source": [],
      "metadata": {
        "id": "EvktVK8DnxdN"
      },
      "execution_count": null,
      "outputs": []
    }
  ]
}